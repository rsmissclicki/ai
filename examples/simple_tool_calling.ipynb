{
 "cells": [
  {
   "cell_type": "code",
   "execution_count": null,
   "metadata": {},
   "outputs": [],
   "source": [
    "import json\n",
    "import sys\n",
    "from dotenv import load_dotenv, find_dotenv\n",
    "\n",
    "sys.path.append('../../aisuite')\n",
    "\n",
    "# Load from .env file if available\n",
    "load_dotenv(find_dotenv())"
   ]
  },
  {
   "cell_type": "code",
   "execution_count": null,
   "metadata": {},
   "outputs": [],
   "source": [
    "import aisuite as ai\n",
    "from aisuite.utils.tool_manager import ToolManager  # Import your ToolManager class\n",
    "\n",
    "client = ai.Client()\n",
    "tool_manager = ToolManager()"
   ]
  },
  {
   "cell_type": "code",
   "execution_count": null,
   "metadata": {},
   "outputs": [],
   "source": [
    "# Mock tool functions.\n",
    "def get_current_temperature(location: str, unit: str):\n",
    "    # Simulate fetching temperature from an API\n",
    "    return {\"location\": location, \"unit\": unit, \"temperature\": 72}\n",
    "\n",
    "tool_manager.add_tool(get_current_temperature)\n",
    "messages = [{\"role\": \"user\", \"content\": \"What is the current temperature in San Francisco in Celsius?\"}]"
   ]
  },
  {
   "cell_type": "code",
   "execution_count": null,
   "metadata": {},
   "outputs": [],
   "source": [
    "# model = \"anthropic:claude-3-5-sonnet-20240620\"\n",
    "# model = openai:gpt-4o\n",
    "# model = mistral:mistral-large-latest\n",
    "model = \"aws:anthropic.claude-3-haiku-20240307-v1:0\"\n",
    "# model = \"groq:llama-3.1-70b-versatile\"\n",
    "response = client.chat.completions.create(\n",
    "    model=model, messages=messages, tools=tool_manager.tools())"
   ]
  },
  {
   "cell_type": "code",
   "execution_count": null,
   "metadata": {},
   "outputs": [],
   "source": [
    "from pprint import pprint\n",
    "pprint(vars(response.choices[0].message))"
   ]
  },
  {
   "cell_type": "code",
   "execution_count": null,
   "metadata": {},
   "outputs": [],
   "source": [
    "if response.choices[0].message.tool_calls:\n",
    "    tool_results, result_as_message = tool_manager.execute_tool(response.choices[0].message.tool_calls)\n",
    "    messages.append(response.choices[0].message) # Model's function call message\n",
    "    messages.append(result_as_message[0])\n",
    "\n",
    "    final_response = client.chat.completions.create(\n",
    "        model=model, messages=messages, tools=tool_manager.tools())\n",
    "    print(final_response.choices[0].message.content)"
   ]
  },
  {
   "cell_type": "code",
   "execution_count": null,
   "metadata": {},
   "outputs": [],
   "source": [
    "# Now, test without tool calling.\n",
    "messages = [{\"role\": \"user\", \"content\": \"What is the capital of California?\"}]\n",
    "response = client.chat.completions.create(\n",
    "    model=model, messages=messages)\n",
    "print(response.choices[0].message.content)"
   ]
  }
 ],
 "metadata": {
  "kernelspec": {
   "display_name": "Python 3 (ipykernel)",
   "language": "python",
   "name": "python3"
  },
  "language_info": {
   "codemirror_mode": {
    "name": "ipython",
    "version": 3
   },
   "file_extension": ".py",
   "mimetype": "text/x-python",
   "name": "python",
   "nbconvert_exporter": "python",
   "pygments_lexer": "ipython3",
   "version": "3.12.7"
  }
 },
 "nbformat": 4,
 "nbformat_minor": 4
}
